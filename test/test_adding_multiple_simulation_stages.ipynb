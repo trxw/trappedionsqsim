{
 "cells": [
  {
   "cell_type": "code",
   "execution_count": 1,
   "metadata": {},
   "outputs": [],
   "source": [
    "import os, inspect, sys\n",
    "import numpy as np\n",
    "#currentdir = os.path.dirname(os.path.abspath(inspect.getfile(inspect.currentframe())))\n",
    "parentdir = '/home/trxw/Documents/ML/rl-quantum-gates/ml-q-channel-all/modular/cp/trappedionsqsim/'\n",
    "sys.path.insert(0,parentdir) \n",
    "from trappedionsqsim.utils.simulations import Simulation as simulation\n",
    "import matplotlib.pyplot as plt\n",
    "import qutip as qtp"
   ]
  },
  {
   "cell_type": "code",
   "execution_count": 2,
   "metadata": {},
   "outputs": [],
   "source": [
    "#Initialize Simulation instance \n",
    "t1, t2, t3, t4 = 0.,10., 20., 30.\n",
    "\n",
    "N = 10000\n",
    "t_arr1 = np.linspace(t1, t2, N)\n",
    "t_arr2 = np.linspace(t2, t3, N)\n",
    "t_arr3 = np.linspace(t3, t4, 2*N)\n"
   ]
  },
  {
   "cell_type": "code",
   "execution_count": 3,
   "metadata": {},
   "outputs": [
    {
     "data": {
      "image/png": "[encoded data removed]",
      "text/plain": [
       "<Figure size 432x288 with 1 Axes>"
      ]
     },
     "metadata": {
      "needs_background": "light"
     },
     "output_type": "display_data"
    }
   ],
   "source": [
    "#With splines\n",
    "\n",
    "func = lambda t: 9*np.exp(-(t / 5)** 2)\n",
    "\n",
    "noise_amp = 0.0\n",
    "noisy_func = lambda t: func(t)+(noise_amp*func(t))*np.random.randn(t.shape[0])\n",
    "#noisy_func2 = lambda t: func2(t)+(noise_amp*func2(t))*np.random.randn(t.shape[0])\n",
    "\n",
    "noisy_data1 = noisy_func(t_arr1)\n",
    "noisy_data2 = noisy_func(t_arr2)\n",
    "noisy_data3 = noisy_func(t_arr3)\n",
    "\n",
    "plt.plot(t_arr1, func(t_arr1))\n",
    "plt.plot(t_arr1, noisy_data1, 'o')\n",
    "plt.plot(t_arr2, func(t_arr2))\n",
    "plt.plot(t_arr2, noisy_data2, 'o')\n",
    "plt.plot(t_arr3, func(t_arr3))\n",
    "plt.plot(t_arr3, noisy_data3, 'o')\n",
    "\n",
    "plt.show()"
   ]
  },
  {
   "cell_type": "code",
   "execution_count": 4,
   "metadata": {},
   "outputs": [
    {
     "name": "stdout",
     "output_type": "stream",
     "text": [
      "t_arr is set\n",
      "Checking time step in time-evolution:\n",
      "Transition matrix element after first time-step:  0j\n",
      "Checking time step in time-evolution:\n",
      "Transition matrix element after first time-step:  0.0\n",
      "No c_ops, using sesolve\n",
      "10.0%. Run time:   0.13s. Est. time left: 00:00:00:01\n",
      "20.0%. Run time:   0.24s. Est. time left: 00:00:00:00\n",
      "30.0%. Run time:   0.35s. Est. time left: 00:00:00:00\n",
      "40.0%. Run time:   0.47s. Est. time left: 00:00:00:00\n",
      "50.0%. Run time:   0.58s. Est. time left: 00:00:00:00\n",
      "60.0%. Run time:   0.84s. Est. time left: 00:00:00:00\n",
      "70.0%. Run time:   0.95s. Est. time left: 00:00:00:00\n",
      "80.0%. Run time:   1.06s. Est. time left: 00:00:00:00\n",
      "90.0%. Run time:   1.17s. Est. time left: 00:00:00:00\n",
      "Total run time:   1.27s\n",
      "t_arr is set\n",
      "Checking time step in time-evolution:\n",
      "Transition matrix element after first time-step:  (0.000211018071597879+0.00027185807530960104j)\n",
      "Checking time step in time-evolution:\n",
      "Transition matrix element after first time-step:  9.219128914714785e-05\n",
      "No c_ops, using sesolve\n",
      "10.0%. Run time:   0.08s. Est. time left: 00:00:00:00\n",
      "20.0%. Run time:   0.17s. Est. time left: 00:00:00:00\n",
      "30.0%. Run time:   0.25s. Est. time left: 00:00:00:00\n",
      "40.0%. Run time:   0.32s. Est. time left: 00:00:00:00\n",
      "50.0%. Run time:   0.41s. Est. time left: 00:00:00:00\n",
      "60.0%. Run time:   0.48s. Est. time left: 00:00:00:00\n",
      "70.0%. Run time:   0.66s. Est. time left: 00:00:00:00\n",
      "80.0%. Run time:   0.75s. Est. time left: 00:00:00:00\n",
      "90.0%. Run time:   0.83s. Est. time left: 00:00:00:00\n",
      "Total run time:   0.92s\n",
      "t_arr is set\n",
      "Checking time step in time-evolution:\n",
      "Transition matrix element after first time-step:  (3.0739362956299634e-06+1.7753566545080504e-05j)\n",
      "Checking time step in time-evolution:\n",
      "Transition matrix element after first time-step:  6.027803378667814e-06\n",
      "No c_ops, using sesolve\n",
      "10.0%. Run time:   0.16s. Est. time left: 00:00:00:01\n",
      "20.0%. Run time:   0.32s. Est. time left: 00:00:00:01\n",
      "30.0%. Run time:   0.47s. Est. time left: 00:00:00:01\n",
      "40.0%. Run time:   0.62s. Est. time left: 00:00:00:00\n",
      "50.0%. Run time:   0.86s. Est. time left: 00:00:00:00\n",
      "60.0%. Run time:   1.00s. Est. time left: 00:00:00:00\n",
      "70.0%. Run time:   1.17s. Est. time left: 00:00:00:00\n",
      "80.0%. Run time:   1.33s. Est. time left: 00:00:00:00\n",
      "90.0%. Run time:   1.48s. Est. time left: 00:00:00:00\n",
      "Total run time:   1.63s\n"
     ]
    }
   ],
   "source": [
    "#Test Simulation with Cubic Spline:\n",
    "\n",
    "\n",
    "sim = simulation(1, 2, 1, 10)\n",
    "psi0 = sim.ket([0], [2])\n",
    "sim.set_curr_state(psi0)\n",
    "a  = sim.a(1)\n",
    "sm = sim.sm(1)\n",
    "c_ops = []\n",
    "H0 = 2 * np.pi * a.dag() * a + 2 * np.pi * sm.dag() * sm + 2 * np.pi * 0.25 * (sm * a.dag() + sm.dag() * a)   \n",
    "H1 = sim.sx(1)\n",
    "\n",
    "\n",
    "#### First Simulation Stage \n",
    "S1 = qtp.interpolate.Cubic_Spline(t_arr1[0], t_arr1[-1], noisy_data1)\n",
    "H = [[H0*sim.sy(1), '1.'], [H1, S1] ]#, [H1, '10 * exp(-(t / 5) ** 2)']]\n",
    "output1 = sim.evolve_spline(H, t_arr1)#, c_ops, [])\n",
    "\n",
    "#### Second Simulation stage\n",
    "S2 = qtp.interpolate.Cubic_Spline(t_arr2[0], t_arr2[-1], noisy_data2)\n",
    "H = [[H0*sim.sy(1), '1.'], [H1, S2] ]#, [H1, '10 * exp(-(t / 5) ** 2)']]\n",
    "output2 = sim.evolve_spline(H, t_arr2)#, c_ops, [])\n",
    "\n",
    "#### Second Simulation stage\n",
    "S3 = qtp.interpolate.Cubic_Spline(t_arr3[0], t_arr3[-1], noisy_data3)\n",
    "H = [[H0*sim.sy(1), '1.'], [H1, S3] ]#, [H1, '10 * exp(-(t / 5) ** 2)']]\n",
    "output3 = sim.evolve_spline(H, t_arr3)#, c_ops, [])\n",
    "\n"
   ]
  },
  {
   "cell_type": "code",
   "execution_count": 7,
   "metadata": {},
   "outputs": [
    {
     "data": {
      "image/png": "[encoded data removed]",
      "text/plain": [
       "<Figure size 432x288 with 1 Axes>"
      ]
     },
     "metadata": {
      "needs_background": "light"
     },
     "output_type": "display_data"
    }
   ],
   "source": [
    "plt.plot(sim.time_arr, qtp.expect(sim.sx(1), sim.states_list) )\n",
    "plt.show()"
   ]
  },
  {
   "cell_type": "code",
   "execution_count": 6,
   "metadata": {},
   "outputs": [
    {
     "data": {
      "text/plain": [
       "(39998, 39998)"
      ]
     },
     "execution_count": 6,
     "metadata": {},
     "output_type": "execute_result"
    }
   ],
   "source": [
    "len(sim.time_arr), len(sim.states_list)"
   ]
  },
  {
   "cell_type": "code",
   "execution_count": null,
   "metadata": {},
   "outputs": [],
   "source": []
  }
 ],
 "metadata": {
  "kernelspec": {
   "display_name": "Python 3",
   "language": "python",
   "name": "python3"
  },
  "language_info": {
   "codemirror_mode": {
    "name": "ipython",
    "version": 3
   },
   "file_extension": ".py",
   "mimetype": "text/x-python",
   "name": "python",
   "nbconvert_exporter": "python",
   "pygments_lexer": "ipython3",
   "version": "3.7.3"
  }
 },
 "nbformat": 4,
 "nbformat_minor": 2
}
